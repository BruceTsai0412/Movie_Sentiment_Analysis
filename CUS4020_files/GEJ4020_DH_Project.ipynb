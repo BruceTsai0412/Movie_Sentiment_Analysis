{
  "nbformat": 4,
  "nbformat_minor": 0,
  "metadata": {
    "colab": {
      "provenance": []
    },
    "kernelspec": {
      "name": "python3",
      "display_name": "Python 3"
    },
    "language_info": {
      "name": "python"
    }
  },
  "cells": [
    {
      "cell_type": "markdown",
      "source": [
        "# **Movie Script Sentiment analysis**"
      ],
      "metadata": {
        "id": "sTeENEog6FXt"
      }
    },
    {
      "cell_type": "markdown",
      "source": [
        "# Install this first"
      ],
      "metadata": {
        "id": "VpBvNVXB6YDy"
      }
    },
    {
      "cell_type": "code",
      "source": [
        "pip install textblob #for sentiment analysis"
      ],
      "metadata": {
        "colab": {
          "base_uri": "https://localhost:8080/"
        },
        "id": "IwA2yDIs-QoT",
        "outputId": "8512ba60-3aac-4363-bce2-3209c9fae3b9"
      },
      "execution_count": null,
      "outputs": [
        {
          "output_type": "stream",
          "name": "stdout",
          "text": [
            "Requirement already satisfied: textblob in /usr/local/lib/python3.10/dist-packages (0.17.1)\n",
            "Requirement already satisfied: nltk>=3.1 in /usr/local/lib/python3.10/dist-packages (from textblob) (3.8.1)\n",
            "Requirement already satisfied: click in /usr/local/lib/python3.10/dist-packages (from nltk>=3.1->textblob) (8.1.7)\n",
            "Requirement already satisfied: joblib in /usr/local/lib/python3.10/dist-packages (from nltk>=3.1->textblob) (1.3.2)\n",
            "Requirement already satisfied: regex>=2021.8.3 in /usr/local/lib/python3.10/dist-packages (from nltk>=3.1->textblob) (2023.6.3)\n",
            "Requirement already satisfied: tqdm in /usr/local/lib/python3.10/dist-packages (from nltk>=3.1->textblob) (4.66.1)\n"
          ]
        }
      ]
    },
    {
      "cell_type": "markdown",
      "source": [
        "# Data Cleaning: removing all the scene cue elements in the script"
      ],
      "metadata": {
        "id": "OSVIZhTQJQ9J"
      }
    },
    {
      "cell_type": "code",
      "source": [
        "def clean_scene_cues(file_name):\n",
        "    scene_cues = ['FAST DISSOLVE TO:', 'DISSOLVE THROUGH TO:', 'DISSOLVE TO:', 'DISSOLVE:', 'QUICK CUT TO:', 'QUICK', 'CUT TO', 'FADE IN:', 'FADE OUT:', 'FADE IN', 'FADE OUT', 'CUT BACK TO:', 'INT.', 'EXT.', 'SCENE BEGINS TO DISSOLVE SLOWLY TO:', 'THE END', 'SHOT.']  # Add more cues if needed\n",
        "    cleaned_lines = []\n",
        "\n",
        "    with open(file_name, 'r', encoding='utf-8') as file:\n",
        "        lines = file.readlines()\n",
        "        for line in lines:\n",
        "            cleaned_line = line\n",
        "            for cue in scene_cues:\n",
        "                cleaned_line = cleaned_line.replace(cue, '')\n",
        "            cleaned_lines.append(cleaned_line)\n",
        "\n",
        "    return cleaned_lines\n",
        "\n",
        "def write_cleaned_content(file_name, cleaned_lines):\n",
        "    with open(f\"cleaned_{file_name}\", 'w', encoding='utf-8') as file:\n",
        "        file.writelines(cleaned_lines)\n",
        "\n",
        "# Replace 'your_file.txt' with your text file name\n",
        "script_file = 'you_file.txt'\n",
        "cleaned_content = clean_scene_cues(script_file)\n",
        "write_cleaned_content(script_file, cleaned_content)"
      ],
      "metadata": {
        "id": "5k1LHjNiJQfM"
      },
      "execution_count": null,
      "outputs": []
    },
    {
      "cell_type": "markdown",
      "source": [
        "# Convert .txt to .csv"
      ],
      "metadata": {
        "id": "DJKjmunJMygI"
      }
    },
    {
      "cell_type": "code",
      "source": [
        "scene_cue_list = [\n",
        "    '- ',\n",
        "    '(',\n",
        "    ')',\n",
        "    'TO',\n",
        "    'IN',\n",
        "    'THE',\n",
        "    'MED.',\n",
        "    'CLOSE',\n",
        "    'LONG',\n",
        "    'MEDIUM',\n",
        "    'ANGLE',\n",
        "    \"'\",\n",
        "    '!',\n",
        "    '?',\n",
        "    '1',\n",
        "    '2',\n",
        "    '3',\n",
        "    '4',\n",
        "    '5',\n",
        "    '6',\n",
        "    '7',\n",
        "    '8',\n",
        "    '9'\n",
        "]"
      ],
      "metadata": {
        "id": "ybf3PuNZhLY_"
      },
      "execution_count": null,
      "outputs": []
    },
    {
      "cell_type": "code",
      "source": [
        "import csv\n",
        "\n",
        "def write_to_csv(script_lines):\n",
        "    with open('movie_script_PSYCHO.csv', 'w', newline='', encoding='utf-8') as csvfile:\n",
        "        writer = csv.writer(csvfile)\n",
        "        writer.writerow(['Scene Description', 'Type', 'Content'])\n",
        "\n",
        "        current_scene = \"\"\n",
        "        current_content = \"\"\n",
        "\n",
        "        for line in script_lines:\n",
        "            if line.isupper():  # Check if the line is all uppercase (indicating a scene or character name)\n",
        "                if current_scene:\n",
        "                    writer.writerow([current_scene, type_label, current_content])\n",
        "                    current_content = \"\"\n",
        "                current_scene = line.strip()\n",
        "\n",
        "                # Determine the 'Type' label based on various conditions for scenes\n",
        "                if \" - \" in current_scene or any(cue in current_scene for cue in scene_cue_list) or current_scene.endswith('.'):\n",
        "                    type_label = 'Scene'\n",
        "                else:\n",
        "                    type_label = 'Character'\n",
        "\n",
        "            elif line.strip():  # Check if the line is not empty\n",
        "                current_content += line.strip() + \" \"\n",
        "\n",
        "        # Write the last entry\n",
        "        if current_scene:\n",
        "            writer.writerow([current_scene, type_label, current_content])\n",
        "\n",
        "# Read the script from a file\n",
        "with open('cleaned_PSYCHO.txt', 'r', encoding='utf-8') as file:\n",
        "    script_lines = file.readlines()\n",
        "\n",
        "# Process the script and write to CSV\n",
        "write_to_csv(script_lines)"
      ],
      "metadata": {
        "id": "4RQfffb5ntZt"
      },
      "execution_count": null,
      "outputs": []
    },
    {
      "cell_type": "markdown",
      "source": [
        "# Sentiment Analysis: compound score"
      ],
      "metadata": {
        "id": "sRk6LYYUSEiS"
      }
    },
    {
      "cell_type": "code",
      "source": [
        "from textblob import TextBlob\n",
        "\n",
        "def get_sentiment_score(text):\n",
        "    blob = TextBlob(text)\n",
        "    return blob.sentiment.polarity  # Using polarity as a compound score\n",
        "\n",
        "def add_sentiment_scores_to_csv(input_filename, output_filename):\n",
        "    with open(input_filename, 'r', newline='', encoding='utf-8') as csvfile:\n",
        "        reader = csv.reader(csvfile)\n",
        "        header = next(reader)  # Read the header\n",
        "\n",
        "        rows = []\n",
        "        for row in reader:\n",
        "            sentiment_score = get_sentiment_score(row[2])  # Assuming 'Content' is in the third column\n",
        "            row.append(sentiment_score)\n",
        "            rows.append(row)\n",
        "\n",
        "    # Write the updated data with sentiment scores to a new CSV\n",
        "    with open(output_filename, 'w', newline='', encoding='utf-8') as csvfile:\n",
        "        writer = csv.writer(csvfile)\n",
        "        writer.writerow(header + ['Sentiment Score'])  # Add the new column header\n",
        "\n",
        "        for row in rows:\n",
        "            writer.writerow(row)\n",
        "\n",
        "# Replace 'your_file.csv' with your CSV file name from the csv converter\n",
        "input_csv = 'converter.csv'\n",
        "output_csv = 'MOVIE_NAME.csv' # You can rename the file\n",
        "\n",
        "# Add sentiment scores to the CSV and save it as a new file\n",
        "add_sentiment_scores_to_csv(input_csv, output_csv)"
      ],
      "metadata": {
        "id": "uba_WTCkia57"
      },
      "execution_count": null,
      "outputs": []
    },
    {
      "cell_type": "markdown",
      "source": [
        "# Scores in Python\n"
      ],
      "metadata": {
        "id": "2qfYM2HGS1k-"
      }
    },
    {
      "cell_type": "code",
      "source": [
        "def calculate_sentiment_by_type(csv_filename):\n",
        "    character_scores = {}\n",
        "    scene_scores = {}\n",
        "\n",
        "    with open(csv_filename, 'r', newline='', encoding='utf-8') as csvfile:\n",
        "        reader = csv.DictReader(csvfile)\n",
        "        for row in reader:\n",
        "            character = row['Scene Description']\n",
        "            sentiment_score = float(row['Sentiment Score'])\n",
        "            type_label = row['Type']\n",
        "\n",
        "            if type_label == 'Character':\n",
        "                if character not in character_scores:\n",
        "                    character_scores[character] = sentiment_score\n",
        "                else:\n",
        "                    character_scores[character] += sentiment_score\n",
        "            else:\n",
        "                if character not in scene_scores:\n",
        "                    scene_scores[character] = sentiment_score\n",
        "                else:\n",
        "                    scene_scores[character] += sentiment_score\n",
        "\n",
        "    return character_scores, scene_scores\n",
        "\n",
        "def display_sentiment_by_type(character_scores, scene_scores):\n",
        "    sorted_character_scores = sorted(character_scores.items(), key=lambda x: x[0])  # Sort character scores alphabetically by character name\n",
        "    sorted_scene_scores = sorted(scene_scores.items(), key=lambda x: x[0])  # Sort scene scores alphabetically by scene description\n",
        "\n",
        "    print(\"Sentiment Scores for Characters:\")\n",
        "    for character, total_score in sorted_character_scores:\n",
        "        if total_score != 0.0:  # Exclude scores equal to 0.0\n",
        "            print(f\"{character}: {total_score}\")\n",
        "\n",
        "    print(\"\\nSentiment Scores for Scenes:\")\n",
        "    for scene, total_score in sorted_scene_scores:\n",
        "        if total_score != 0.0:  # Exclude scores equal to 0.0\n",
        "            print(f\"{scene}: {total_score}\")\n",
        "\n",
        "# Replace 'your_file.csv' with your CSV file name\n",
        "sentiment_file = 'IT.csv'\n",
        "character_scores, scene_scores = calculate_sentiment_by_type(sentiment_file)\n",
        "display_sentiment_by_type(character_scores, scene_scores)"
      ],
      "metadata": {
        "id": "kOrtkwT1mhKG"
      },
      "execution_count": null,
      "outputs": []
    },
    {
      "cell_type": "markdown",
      "source": [
        "# Scores in Python (This one exclude all compound socres of 0.0/ no value)"
      ],
      "metadata": {
        "id": "JlvLpIfFBcQx"
      }
    },
    {
      "cell_type": "code",
      "source": [
        "def calculate_sentiment_by_type(csv_filename):\n",
        "    character_scores = {}\n",
        "    scene_scores = {}\n",
        "\n",
        "    with open(csv_filename, 'r', newline='', encoding='utf-8') as csvfile:\n",
        "        reader = csv.DictReader(csvfile)\n",
        "        for row in reader:\n",
        "            character = row['Scene Description']\n",
        "            sentiment_score = float(row['Sentiment Score'])\n",
        "            type_label = row['Type']\n",
        "\n",
        "            # Exclude entries with double spaces\n",
        "            if '  ' in character:\n",
        "                continue\n",
        "\n",
        "            if type_label == 'Character':\n",
        "                if character not in character_scores:\n",
        "                    character_scores[character] = sentiment_score\n",
        "                else:\n",
        "                    character_scores[character] += sentiment_score\n",
        "            else:\n",
        "                if character not in scene_scores:\n",
        "                    scene_scores[character] = sentiment_score\n",
        "                else:\n",
        "                    scene_scores[character] += sentiment_score\n",
        "\n",
        "    return character_scores, scene_scores\n",
        "\n",
        "def display_sentiment_by_type(character_scores, scene_scores):\n",
        "    sorted_character_scores = sorted(character_scores.items(), key=lambda x: x[0])  # Sort character scores alphabetically by character name\n",
        "    sorted_scene_scores = sorted(scene_scores.items(), key=lambda x: x[0])  # Sort scene scores alphabetically by scene description\n",
        "\n",
        "    print(\"Sentiment Scores for Characters:\")\n",
        "    for character, total_score in sorted_character_scores:\n",
        "        if total_score != 0.0:  # Exclude scores equal to 0.0\n",
        "            print(f\"{character}: {total_score}\")\n",
        "\n",
        "    print(\"\\nSentiment Scores for Scenes:\")\n",
        "    for scene, total_score in sorted_scene_scores:\n",
        "        if total_score != 0.0:  # Exclude scores equal to 0.0\n",
        "            print(f\"{scene}: {total_score}\")\n",
        "\n",
        "# Replace 'your_file.csv' with your CSV file name\n",
        "sentiment_file = 'your_file.csv'\n",
        "character_scores, scene_scores = calculate_sentiment_by_type(sentiment_file)\n",
        "display_sentiment_by_type(character_scores, scene_scores)"
      ],
      "metadata": {
        "id": "VGY7IrYmA_WU"
      },
      "execution_count": null,
      "outputs": []
    },
    {
      "cell_type": "markdown",
      "source": [
        "# Visualization"
      ],
      "metadata": {
        "id": "2eG9dtm_BmVV"
      }
    },
    {
      "cell_type": "code",
      "source": [
        "import matplotlib.pyplot as plt\n",
        "\n",
        "def visualize_character_sentiment(character_scores):\n",
        "    filtered_character_scores = {char: score for char, score in character_scores.items() if score != 0.0 and '  ' not in char}\n",
        "    sorted_character_scores = sorted(filtered_character_scores.items(), key=lambda x: x[1])\n",
        "\n",
        "    characters = [char[0] for char in sorted_character_scores]\n",
        "    scores = [score[1] for score in sorted_character_scores]\n",
        "\n",
        "    colors = ['red' if score < 0 else 'blue' for score in scores]\n",
        "\n",
        "    plt.figure(figsize=(12, 9)) #Might need to scale up for better view\n",
        "    bars = plt.barh(characters, scores, color=colors)\n",
        "    plt.xlabel('Sentiment Score')\n",
        "    plt.title('Sentiment Scores for Characters')\n",
        "\n",
        "    # Adding a legend for positive and negative scores\n",
        "    plt.legend(handles=[bars[0], bars[-1]], labels=['Negative Sentiment', 'Positive Sentiment'], loc='lower right')\n",
        "\n",
        "    plt.gca().invert_yaxis()\n",
        "    plt.show()\n",
        "\n",
        "# Replace 'your_file.csv' with your CSV file name\n",
        "sentiment_file = 'your_file.csv'\n",
        "character_scores, _ = calculate_sentiment_by_type(sentiment_file)\n",
        "visualize_character_sentiment(character_scores)"
      ],
      "metadata": {
        "colab": {
          "base_uri": "https://localhost:8080/",
          "height": 795
        },
        "id": "4wGN5oYZ47uI",
        "outputId": "d40fcc90-da00-4dc4-cac2-fd48ae80a54e"
      },
      "execution_count": null,
      "outputs": [
        {
          "output_type": "display_data",
          "data": {
            "text/plain": [
              "<Figure size 1200x900 with 1 Axes>"
            ],
            "image/png": "[encoded data removed]"
          },
          "metadata": {}
        }
      ]
    }
  ]
}